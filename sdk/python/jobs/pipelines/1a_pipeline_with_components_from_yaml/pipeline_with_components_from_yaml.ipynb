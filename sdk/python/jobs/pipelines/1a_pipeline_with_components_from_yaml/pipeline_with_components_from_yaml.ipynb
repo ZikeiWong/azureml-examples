{
 "cells": [
  {
   "cell_type": "markdown",
   "metadata": {},
   "source": [
    "# Build Pipeline with Components from yaml\n",
    "\n",
    "**Requirements** - In order to benefit from this tutorial, you will need:\n",
    "- A basic understanding of Machine Learning\n",
    "- An Azure account with an active subscription - [Create an account for free](https://azure.microsoft.com/free/?WT.mc_id=A261C142F)\n",
    "- An Azure ML workspace with computer cluster - [Configure workspace](../../configuration.ipynb)\n",
    "- A python environment\n",
    "- Installed Azure Machine Learning Python SDK v2 - [install instructions](../../../README.md) - check the getting started section\n",
    "\n",
    "**Learning Objectives** - By the end of this tutorial, you should be able to:\n",
    "- Connect to your AML workspace from the Python SDK\n",
    "- Define and load `CommandComponent` from YAML\n",
    "- Create `Pipeline` using loaded component.\n",
    "\n",
    "**Motivations** - This notebook covers the scenario that user define components using yaml then use these components to build pipeline."
   ]
  },
  {
   "cell_type": "markdown",
   "metadata": {},
   "source": [
    "# 1. Connect to Azure Machine Learning Workspace\n",
    "\n",
    "The [workspace](https://docs.microsoft.com/en-us/azure/machine-learning/concept-workspace) is the top-level resource for Azure Machine Learning, providing a centralized place to work with all the artifacts you create when you use Azure Machine Learning. In this section we will connect to the workspace in which the job will be run.\n",
    "\n",
    "## 1.1 Import the required libraries"
   ]
  },
  {
   "cell_type": "code",
   "execution_count": 1,
   "metadata": {},
   "outputs": [],
   "source": [
    "# Import required libraries\n",
    "from azure.identity import DefaultAzureCredential, InteractiveBrowserCredential\n",
    "\n",
    "from azure.ai.ml import MLClient, Input\n",
    "from azure.ai.ml.dsl import pipeline\n",
    "from azure.ai.ml import load_component"
   ]
  },
  {
   "cell_type": "markdown",
   "metadata": {},
   "source": []
  },
  {
   "cell_type": "markdown",
   "metadata": {},
   "source": [
    "## 1.2 Configure credential\n",
    "\n",
    "We are using `DefaultAzureCredential` to get access to workspace. \n",
    "`DefaultAzureCredential` should be capable of handling most Azure SDK authentication scenarios. \n",
    "\n",
    "Reference for more available credentials if it does not work for you: [configure credential example](../../configuration.ipynb), [azure-identity reference doc](https://docs.microsoft.com/en-us/python/api/azure-identity/azure.identity?view=azure-python)."
   ]
  },
  {
   "cell_type": "code",
   "execution_count": 2,
   "metadata": {},
   "outputs": [],
   "source": [
    "try:\n",
    "    credential = DefaultAzureCredential()\n",
    "    # Check if given credential can get token successfully.\n",
    "    credential.get_token(\"https://management.azure.com/.default\")\n",
    "except Exception as ex:\n",
    "    # Fall back to InteractiveBrowserCredential in case DefaultAzureCredential not work\n",
    "    credential = InteractiveBrowserCredential()"
   ]
  },
  {
   "cell_type": "markdown",
   "metadata": {},
   "source": [
    "## 1.3 Get a handle to the workspace\n",
    "\n",
    "We use config file to connect to a workspace. The Azure ML workspace should be configured with computer cluster. [Check this notebook for configure a workspace](../../configuration.ipynb)"
   ]
  },
  {
   "cell_type": "code",
   "execution_count": 4,
   "metadata": {},
   "outputs": [
    {
     "name": "stderr",
     "output_type": "stream",
     "text": [
      "Found the config file in: C:\\Users\\ziqiwang\\OneDrive - Microsoft\\Documents\\GitHub\\azureml-examples\\config.json\n"
     ]
    },
    {
     "name": "stdout",
     "output_type": "stream",
     "text": [
      "AmlCompute({'type': 'amlcompute', 'created_on': None, 'provisioning_state': 'Succeeded', 'provisioning_errors': None, 'name': 'cpu-cluster', 'description': None, 'tags': {}, 'properties': {}, 'id': '/subscriptions/ee85ed72-2b26-48f6-a0e8-cb5bcf98fbd9/resourceGroups/ZiqiTest/providers/Microsoft.MachineLearningServices/workspaces/ZiqiPipelineTest/computes/cpu-cluster', 'Resource__source_path': None, 'base_path': 'c:\\\\Users\\\\ziqiwang\\\\OneDrive - Microsoft\\\\Documents\\\\GitHub\\\\azureml-examples\\\\sdk\\\\python\\\\jobs\\\\pipelines\\\\1a_pipeline_with_components_from_yaml', 'creation_context': None, 'serialize': <msrest.serialization.Serializer object at 0x000001B1A01ACE50>, 'resource_id': None, 'location': 'eastus', 'size': 'STANDARD_DS3_V2', 'min_instances': 0, 'max_instances': 10, 'idle_time_before_scale_down': 120.0, 'identity': None, 'ssh_public_access_enabled': True, 'ssh_settings': None, 'network_settings': <azure.ai.ml.entities._compute.compute.NetworkSettings object at 0x000001B1A01ACFD0>, 'tier': 'dedicated', 'subnet': None})\n"
     ]
    }
   ],
   "source": [
    "# Get a handle to workspace\n",
    "ml_client = MLClient.from_config(credential=credential)\n",
    "\n",
    "# Retrieve an already attached Azure Machine Learning Compute.\n",
    "cluster_name = \"cpu-cluster\"\n",
    "print(ml_client.compute.get(cluster_name))"
   ]
  },
  {
   "cell_type": "markdown",
   "metadata": {},
   "source": [
    "# 2. Define and create components into workspace\n",
    "## 2.1 Load components from YAML"
   ]
  },
  {
   "cell_type": "code",
   "execution_count": 6,
   "metadata": {},
   "outputs": [],
   "source": [
    "parent_dir = \".\"\n",
    "train_model = load_component(source=parent_dir + \"/train_model.yml\")\n",
    "score_data = load_component(source=parent_dir + \"/score_data.yml\")\n",
    "eval_model = load_component(source=parent_dir + \"/eval_model.yml\")"
   ]
  },
  {
   "cell_type": "markdown",
   "metadata": {},
   "source": [
    "## 2.2 Inspect loaded component"
   ]
  },
  {
   "cell_type": "code",
   "execution_count": 7,
   "metadata": {},
   "outputs": [
    {
     "name": "stdout",
     "output_type": "stream",
     "text": [
      "$schema: https://azuremlschemas.azureedge.net/latest/commandComponent.schema.json\n",
      "name: train_model\n",
      "version: 0.0.1\n",
      "display_name: Train Model\n",
      "description: A dummy training component\n",
      "type: command\n",
      "inputs:\n",
      "  training_data:\n",
      "    type: uri_folder\n",
      "  max_epochs:\n",
      "    type: integer\n",
      "    default: '3'\n",
      "  learning_rate:\n",
      "    type: number\n",
      "    default: '0.01'\n",
      "  learning_rate_schedule:\n",
      "    type: string\n",
      "    default: time-based\n",
      "outputs:\n",
      "  model_output:\n",
      "    type: uri_folder\n",
      "command: python train.py  --training_data ${{inputs.training_data}}  --max_epochs\n",
      "  ${{inputs.max_epochs}}  --learning_rate ${{inputs.learning_rate}}  --learning_rate_schedule\n",
      "  ${{inputs.learning_rate_schedule}}  --model_output ${{outputs.model_output}}\n",
      "environment: azureml:AzureML-sklearn-0.24-ubuntu18.04-py37-cpu:5\n",
      "code: ./train_src\n",
      "is_deterministic: true\n",
      "tags: {}\n",
      "\n"
     ]
    }
   ],
   "source": [
    "# Print the component as yaml\n",
    "print(train_model)"
   ]
  },
  {
   "cell_type": "code",
   "execution_count": 8,
   "metadata": {},
   "outputs": [
    {
     "name": "stdout",
     "output_type": "stream",
     "text": [
      "<class 'azure.ai.ml.entities._component.command_component.CommandComponent'>\n",
      "Help on function [component] Train Model:\n",
      "\n",
      "[component] Train Model(*, training_data: 'uri_folder' = None, max_epochs: 'int' = None, learning_rate: 'float' = None, learning_rate_schedule: 'str' = None)\n",
      "    A dummy training component\n",
      "    \n",
      "    Component yaml:\n",
      "    ```yaml\n",
      "    $schema: https://azuremlschemas.azureedge.net/latest/commandComponent.schema.json\n",
      "    name: train_model\n",
      "    version: 0.0.1\n",
      "    display_name: Train Model\n",
      "    description: A dummy training component\n",
      "    type: command\n",
      "    inputs:\n",
      "      training_data:\n",
      "        type: uri_folder\n",
      "      max_epochs:\n",
      "        type: integer\n",
      "        default: '3'\n",
      "      learning_rate:\n",
      "        type: number\n",
      "        default: '0.01'\n",
      "      learning_rate_schedule:\n",
      "        type: string\n",
      "        default: time-based\n",
      "    outputs:\n",
      "      model_output:\n",
      "        type: uri_folder\n",
      "    command: python train.py  --training_data ${{inputs.training_data}}  --max_epochs\n",
      "      ${{inputs.max_epochs}}  --learning_rate ${{inputs.learning_rate}}  --learning_rate_schedule\n",
      "      ${{inputs.learning_rate_schedule}}  --model_output ${{outputs.model_output}}\n",
      "    environment: azureml:AzureML-sklearn-0.24-ubuntu18.04-py37-cpu:5\n",
      "    code: ./train_src\n",
      "    is_deterministic: true\n",
      "    tags: {}\n",
      "    \n",
      "    ```\n",
      "\n"
     ]
    }
   ],
   "source": [
    "# Inspect more information\n",
    "print(type(train_model))\n",
    "help(train_model._func)"
   ]
  },
  {
   "cell_type": "markdown",
   "metadata": {},
   "source": [
    "# 3. Sample pipeline job\n",
    "## 3.1 Build pipeline"
   ]
  },
  {
   "cell_type": "code",
   "execution_count": 12,
   "metadata": {},
   "outputs": [],
   "source": [
    "# Construct pipeline\n",
    "@pipeline()\n",
    "def SDK_pipeline_with_components_from_yaml(\n",
    "    training_input,\n",
    "    test_input,\n",
    "    training_max_epochs=20,\n",
    "    training_learning_rate=1.8,\n",
    "    learning_rate_schedule=\"time-based\",\n",
    "):\n",
    "    \"\"\"E2E dummy train-score-eval pipeline with components defined via yaml.\"\"\"\n",
    "    # Call component obj as function: apply given inputs & parameters to create a node in pipeline\n",
    "    train_with_sample_data = train_model(\n",
    "        training_data=training_input,\n",
    "        max_epochs=training_max_epochs,\n",
    "        learning_rate=training_learning_rate,\n",
    "        learning_rate_schedule=learning_rate_schedule,\n",
    "    )\n",
    "\n",
    "    score_with_sample_data = score_data(\n",
    "        model_input=train_with_sample_data.outputs.model_output, test_data=test_input\n",
    "    )\n",
    "    score_with_sample_data.outputs.score_output.mode = \"upload\"\n",
    "\n",
    "    eval_with_sample_data = eval_model(\n",
    "        scoring_result=score_with_sample_data.outputs.score_output\n",
    "    )\n",
    "\n",
    "    # Return: pipeline outputs\n",
    "    return {\n",
    "        \"trained_model\": train_with_sample_data.outputs.model_output,\n",
    "        \"scored_data\": score_with_sample_data.outputs.score_output,\n",
    "        \"evaluation_report\": eval_with_sample_data.outputs.eval_output,\n",
    "    }\n",
    "\n",
    "\n",
    "pipeline_job = SDK_pipeline_with_components_from_yaml(\n",
    "    training_input=Input(type=\"uri_folder\", path=parent_dir + \"/data/\"),\n",
    "    test_input=Input(type=\"uri_folder\", path=parent_dir + \"/data/\"),\n",
    "    training_max_epochs=20,\n",
    "    training_learning_rate=1.8,\n",
    "    learning_rate_schedule=\"time-based\",\n",
    ")\n",
    "\n",
    "# set pipeline level compute\n",
    "pipeline_job.settings.default_compute = \"cpu-cluster\""
   ]
  },
  {
   "cell_type": "code",
   "execution_count": 13,
   "metadata": {},
   "outputs": [
    {
     "name": "stdout",
     "output_type": "stream",
     "text": [
      "display_name: SDK_pipeline_with_components_from_yaml\n",
      "description: E2E dummy train-score-eval pipeline with components defined via yaml.\n",
      "type: pipeline\n",
      "inputs:\n",
      "  training_input:\n",
      "    type: uri_folder\n",
      "    path: azureml:./data/\n",
      "  test_input:\n",
      "    type: uri_folder\n",
      "    path: azureml:./data/\n",
      "  training_max_epochs: 20\n",
      "  training_learning_rate: 1.8\n",
      "  learning_rate_schedule: time-based\n",
      "outputs:\n",
      "  trained_model: null\n",
      "  scored_data: null\n",
      "  evaluation_report: null\n",
      "jobs:\n",
      "  train_with_sample_data:\n",
      "    type: command\n",
      "    inputs:\n",
      "      training_data:\n",
      "        path: ${{parent.inputs.training_input}}\n",
      "      max_epochs:\n",
      "        path: ${{parent.inputs.training_max_epochs}}\n",
      "      learning_rate:\n",
      "        path: ${{parent.inputs.training_learning_rate}}\n",
      "      learning_rate_schedule:\n",
      "        path: ${{parent.inputs.learning_rate_schedule}}\n",
      "    outputs:\n",
      "      model_output: ${{parent.outputs.trained_model}}\n",
      "    code: C:/Users/ziqiwang/OneDrive - Microsoft/Documents/GitHub/azureml-examples/sdk/python/jobs/pipelines/1a_pipeline_with_components_from_yaml/train_src\n",
      "    environment_variables: {}\n",
      "    component:\n",
      "      $schema: https://azuremlschemas.azureedge.net/latest/commandComponent.schema.json\n",
      "      name: azureml_anonymous\n",
      "      version: 0.0.1\n",
      "      display_name: Train Model\n",
      "      description: A dummy training component\n",
      "      type: command\n",
      "      inputs:\n",
      "        training_data:\n",
      "          type: uri_folder\n",
      "        max_epochs:\n",
      "          type: integer\n",
      "          default: '3'\n",
      "        learning_rate:\n",
      "          type: number\n",
      "          default: '0.01'\n",
      "        learning_rate_schedule:\n",
      "          type: string\n",
      "          default: time-based\n",
      "      outputs:\n",
      "        model_output:\n",
      "          type: uri_folder\n",
      "      command: python train.py  --training_data ${{inputs.training_data}}  --max_epochs\n",
      "        ${{inputs.max_epochs}}  --learning_rate ${{inputs.learning_rate}}  --learning_rate_schedule\n",
      "        ${{inputs.learning_rate_schedule}}  --model_output ${{outputs.model_output}}\n",
      "      environment: azureml:AzureML-sklearn-0.24-ubuntu18.04-py37-cpu:5\n",
      "      code: C:/Users/ziqiwang/OneDrive - Microsoft/Documents/GitHub/azureml-examples/sdk/python/jobs/pipelines/1a_pipeline_with_components_from_yaml/train_src\n",
      "      is_deterministic: true\n",
      "      tags: {}\n",
      "    properties: {}\n",
      "  score_with_sample_data:\n",
      "    type: command\n",
      "    inputs:\n",
      "      model_input:\n",
      "        path: ${{parent.jobs.train_with_sample_data.outputs.model_output}}\n",
      "      test_data:\n",
      "        path: ${{parent.inputs.test_input}}\n",
      "    outputs:\n",
      "      score_output:\n",
      "        mode: upload\n",
      "        type: uri_folder\n",
      "        path: ${{parent.outputs.scored_data}}\n",
      "    code: C:/Users/ziqiwang/OneDrive - Microsoft/Documents/GitHub/azureml-examples/sdk/python/jobs/pipelines/1a_pipeline_with_components_from_yaml/score_src\n",
      "    environment_variables: {}\n",
      "    component:\n",
      "      $schema: https://azuremlschemas.azureedge.net/latest/commandComponent.schema.json\n",
      "      name: score_data\n",
      "      version: 0.0.1\n",
      "      display_name: Score Data\n",
      "      description: A dummy scoring component\n",
      "      type: command\n",
      "      inputs:\n",
      "        model_input:\n",
      "          type: uri_folder\n",
      "        test_data:\n",
      "          type: uri_folder\n",
      "      outputs:\n",
      "        score_output:\n",
      "          type: uri_folder\n",
      "      command: python score.py  --model_input ${{inputs.model_input}}  --test_data\n",
      "        ${{inputs.test_data}} --score_output ${{outputs.score_output}}\n",
      "      environment: azureml:AzureML-sklearn-0.24-ubuntu18.04-py37-cpu:5\n",
      "      code: C:/Users/ziqiwang/OneDrive - Microsoft/Documents/GitHub/azureml-examples/sdk/python/jobs/pipelines/1a_pipeline_with_components_from_yaml/score_src\n",
      "      is_deterministic: true\n",
      "      tags: {}\n",
      "    properties: {}\n",
      "  eval_with_sample_data:\n",
      "    type: command\n",
      "    inputs:\n",
      "      scoring_result:\n",
      "        path: ${{parent.jobs.score_with_sample_data.outputs.score_output}}\n",
      "    outputs:\n",
      "      eval_output: ${{parent.outputs.evaluation_report}}\n",
      "    code: C:/Users/ziqiwang/OneDrive - Microsoft/Documents/GitHub/azureml-examples/sdk/python/jobs/pipelines/1a_pipeline_with_components_from_yaml/eval_src\n",
      "    environment_variables: {}\n",
      "    component:\n",
      "      $schema: https://azuremlschemas.azureedge.net/latest/commandComponent.schema.json\n",
      "      name: eval_model\n",
      "      version: 0.0.1\n",
      "      display_name: Eval Model\n",
      "      description: A dummy evaluate component\n",
      "      type: command\n",
      "      inputs:\n",
      "        scoring_result:\n",
      "          type: uri_folder\n",
      "      outputs:\n",
      "        eval_output:\n",
      "          type: uri_folder\n",
      "      command: python eval.py  --scoring_result ${{inputs.scoring_result}}  --eval_output\n",
      "        ${{outputs.eval_output}}\n",
      "      environment: azureml:AzureML-sklearn-0.24-ubuntu18.04-py37-cpu:5\n",
      "      code: C:/Users/ziqiwang/OneDrive - Microsoft/Documents/GitHub/azureml-examples/sdk/python/jobs/pipelines/1a_pipeline_with_components_from_yaml/eval_src\n",
      "      is_deterministic: true\n",
      "      tags: {}\n",
      "    properties: {}\n",
      "tags: {}\n",
      "properties: {}\n",
      "settings:\n",
      "  default_compute: azureml:cpu-cluster\n",
      "\n"
     ]
    }
   ],
   "source": [
    "# Inspect built pipeline\n",
    "print(pipeline_job)"
   ]
  },
  {
   "cell_type": "markdown",
   "metadata": {},
   "source": [
    "## 3.2 Submit pipeline job"
   ]
  },
  {
   "cell_type": "code",
   "execution_count": 14,
   "metadata": {},
   "outputs": [
    {
     "name": "stderr",
     "output_type": "stream",
     "text": [
      "\u001b[32mUploading train_src (0.0 MBs): 100%|##########| 1502/1502 [00:00<00:00, 6429.29it/s]\n",
      "\u001b[39m\n",
      "\n"
     ]
    },
    {
     "data": {
      "text/html": [
       "<table style=\"width:100%\"><tr><th>Experiment</th><th>Name</th><th>Type</th><th>Status</th><th>Details Page</th></tr><tr><td>1a_pipeline_with_components_from_yaml</td><td>modest_garage_c3hrsfg1cg</td><td>pipeline</td><td>Preparing</td><td><a href=\"https://ml.azure.com/runs/modest_garage_c3hrsfg1cg?wsid=/subscriptions/ee85ed72-2b26-48f6-a0e8-cb5bcf98fbd9/resourcegroups/ziqitest/workspaces/ZiqiPipelineTest&amp;tid=72f988bf-86f1-41af-91ab-2d7cd011db47\" target=\"_blank\" rel=\"noopener\">Link to Azure Machine Learning studio</a></td></tr></table>"
      ],
      "text/plain": [
       "PipelineJob({'inputs': {'training_input': <azure.ai.ml.entities._job.pipeline._io.base.PipelineInput object at 0x000001B1A4044790>, 'test_input': <azure.ai.ml.entities._job.pipeline._io.base.PipelineInput object at 0x000001B1A4044FA0>, 'training_max_epochs': <azure.ai.ml.entities._job.pipeline._io.base.PipelineInput object at 0x000001B1A40441C0>, 'training_learning_rate': <azure.ai.ml.entities._job.pipeline._io.base.PipelineInput object at 0x000001B1A4044160>, 'learning_rate_schedule': <azure.ai.ml.entities._job.pipeline._io.base.PipelineInput object at 0x000001B1A4044400>}, 'outputs': {'trained_model': <azure.ai.ml.entities._job.pipeline._io.base.PipelineOutput object at 0x000001B1A4044CD0>, 'scored_data': <azure.ai.ml.entities._job.pipeline._io.base.PipelineOutput object at 0x000001B1A4044D90>, 'evaluation_report': <azure.ai.ml.entities._job.pipeline._io.base.PipelineOutput object at 0x000001B1A4044F10>}, 'jobs': {}, 'component': PipelineComponent({'auto_increment_version': False, 'source': 'REMOTE.WORKSPACE.JOB', 'is_anonymous': True, 'name': 'azureml_anonymous', 'description': 'E2E dummy train-score-eval pipeline with components defined via yaml.', 'tags': {}, 'properties': {}, 'id': None, 'Resource__source_path': None, 'base_path': None, 'creation_context': None, 'serialize': <msrest.serialization.Serializer object at 0x000001B1A4044490>, 'version': '1', 'latest_version': None, 'schema': None, 'type': 'pipeline', 'display_name': 'SDK_pipeline_with_components_from_yaml', 'is_deterministic': None, 'inputs': {'training_input': {}, 'test_input': {}, 'training_max_epochs': {}, 'training_learning_rate': {}, 'learning_rate_schedule': {}}, 'outputs': {'trained_model': {}, 'scored_data': {}, 'evaluation_report': {}}, 'yaml_str': None, 'other_parameter': {}, 'jobs': {'train_with_sample_data': Command({'parameters': {}, 'init': False, 'type': 'command', 'status': None, 'log_files': None, 'name': 'train_with_sample_data', 'description': None, 'tags': {}, 'properties': {}, 'id': None, 'Resource__source_path': None, 'base_path': None, 'creation_context': None, 'serialize': <msrest.serialization.Serializer object at 0x000001B1A4184730>, 'allowed_keys': {}, 'key_restriction': False, 'logger': <Logger attr_dict (WARNING)>, 'display_name': None, 'experiment_name': None, 'compute': None, 'services': None, 'comment': None, 'job_inputs': {'training_data': '${{parent.inputs.training_input}}', 'max_epochs': '${{parent.inputs.training_max_epochs}}', 'learning_rate': '${{parent.inputs.training_learning_rate}}', 'learning_rate_schedule': '${{parent.inputs.learning_rate_schedule}}'}, 'job_outputs': {'model_output': '${{parent.outputs.trained_model}}'}, 'inputs': {'training_data': <azure.ai.ml.entities._job.pipeline._io.base.NodeInput object at 0x000001B1A4109670>, 'max_epochs': <azure.ai.ml.entities._job.pipeline._io.base.NodeInput object at 0x000001B1A4109C70>, 'learning_rate': <azure.ai.ml.entities._job.pipeline._io.base.NodeInput object at 0x000001B1A4109EE0>, 'learning_rate_schedule': <azure.ai.ml.entities._job.pipeline._io.base.NodeInput object at 0x000001B1A4109340>}, 'outputs': {'model_output': <azure.ai.ml.entities._job.pipeline._io.base.NodeOutput object at 0x000001B1A4109100>}, 'component': 'azureml_anonymous:e784e0bc-db32-4b82-ad0e-83019a96af3f', 'referenced_control_flow_node_instance_id': None, 'kwargs': {'services': None}, 'instance_id': 'a1db331f-e510-48d4-8a63-ad659aff5417', 'source': 'REMOTE.WORKSPACE.COMPONENT', 'limits': None, 'identity': None, 'distribution': None, 'environment_variables': {}, 'environment': None, 'resources': None, 'swept': False}), 'score_with_sample_data': Command({'parameters': {}, 'init': False, 'type': 'command', 'status': None, 'log_files': None, 'name': 'score_with_sample_data', 'description': None, 'tags': {}, 'properties': {}, 'id': None, 'Resource__source_path': None, 'base_path': None, 'creation_context': None, 'serialize': <msrest.serialization.Serializer object at 0x000001B1A4109A60>, 'allowed_keys': {}, 'key_restriction': False, 'logger': <Logger attr_dict (WARNING)>, 'display_name': None, 'experiment_name': None, 'compute': None, 'services': None, 'comment': None, 'job_inputs': {'model_input': '${{parent.jobs.train_with_sample_data.outputs.model_output}}', 'test_data': '${{parent.inputs.test_input}}'}, 'job_outputs': {'score_output': {'type': 'uri_folder', 'path': '${{parent.outputs.scored_data}}', 'mode': 'upload'}}, 'inputs': {'model_input': <azure.ai.ml.entities._job.pipeline._io.base.NodeInput object at 0x000001B1A41099A0>, 'test_data': <azure.ai.ml.entities._job.pipeline._io.base.NodeInput object at 0x000001B1A4109910>}, 'outputs': {'score_output': <azure.ai.ml.entities._job.pipeline._io.base.NodeOutput object at 0x000001B1A4109280>}, 'component': 'azureml_anonymous:014c32e5-39f9-4582-a6bc-73d7dd578c48', 'referenced_control_flow_node_instance_id': None, 'kwargs': {'services': None}, 'instance_id': 'd191a80f-5be9-42f6-b2a3-bd0ff81c5c70', 'source': 'REMOTE.WORKSPACE.COMPONENT', 'limits': None, 'identity': None, 'distribution': None, 'environment_variables': {}, 'environment': None, 'resources': None, 'swept': False}), 'eval_with_sample_data': Command({'parameters': {}, 'init': False, 'type': 'command', 'status': None, 'log_files': None, 'name': 'eval_with_sample_data', 'description': None, 'tags': {}, 'properties': {}, 'id': None, 'Resource__source_path': None, 'base_path': None, 'creation_context': None, 'serialize': <msrest.serialization.Serializer object at 0x000001B1A4044250>, 'allowed_keys': {}, 'key_restriction': False, 'logger': <Logger attr_dict (WARNING)>, 'display_name': None, 'experiment_name': None, 'compute': None, 'services': None, 'comment': None, 'job_inputs': {'scoring_result': '${{parent.jobs.score_with_sample_data.outputs.score_output}}'}, 'job_outputs': {'eval_output': '${{parent.outputs.evaluation_report}}'}, 'inputs': {'scoring_result': <azure.ai.ml.entities._job.pipeline._io.base.NodeInput object at 0x000001B1A4044AF0>}, 'outputs': {'eval_output': <azure.ai.ml.entities._job.pipeline._io.base.NodeOutput object at 0x000001B1A4044EE0>}, 'component': 'azureml_anonymous:e7fa4a1e-2447-4775-8b39-0006d0b062c7', 'referenced_control_flow_node_instance_id': None, 'kwargs': {'services': None}, 'instance_id': '9e49e71f-1a81-47e8-ba17-58041f3b38dc', 'source': 'REMOTE.WORKSPACE.COMPONENT', 'limits': None, 'identity': None, 'distribution': None, 'environment_variables': {}, 'environment': None, 'resources': None, 'swept': False})}, 'job_types': {'command': 3}, 'job_sources': {'REMOTE.WORKSPACE.COMPONENT': 3}, 'source_job_id': None}), 'type': 'pipeline', 'status': 'Preparing', 'log_files': None, 'name': 'modest_garage_c3hrsfg1cg', 'description': 'E2E dummy train-score-eval pipeline with components defined via yaml.', 'tags': {}, 'properties': {'mlflow.source.git.repoURL': 'https://github.com/ZikeiWong/azureml-examples.git', 'mlflow.source.git.branch': 'ziqi/2022.11RampUp', 'mlflow.source.git.commit': '1831617b7b2c363d07d24a7376f43eb7697f3a94', 'azureml.git.dirty': 'True', 'azureml.DevPlatv2': 'true', 'azureml.runsource': 'azureml.PipelineRun', 'runSource': 'MFE', 'runType': 'HTTP', 'azureml.parameters': '{\"training_max_epochs\":\"20\",\"training_learning_rate\":\"1.8\",\"learning_rate_schedule\":\"time-based\"}', 'azureml.continue_on_step_failure': 'False', 'azureml.continue_on_failed_optional_input': 'True', 'azureml.defaultComputeName': 'cpu-cluster', 'azureml.defaultDataStoreName': 'workspaceblobstore', 'azureml.pipelineComponent': 'pipelinerun'}, 'id': '/subscriptions/ee85ed72-2b26-48f6-a0e8-cb5bcf98fbd9/resourceGroups/ziqitest/providers/Microsoft.MachineLearningServices/workspaces/ZiqiPipelineTest/jobs/modest_garage_c3hrsfg1cg', 'Resource__source_path': None, 'base_path': 'c:\\\\Users\\\\ziqiwang\\\\OneDrive - Microsoft\\\\Documents\\\\GitHub\\\\azureml-examples\\\\sdk\\\\python\\\\jobs\\\\pipelines\\\\1a_pipeline_with_components_from_yaml', 'creation_context': <azure.ai.ml.entities._system_data.SystemData object at 0x000001B1A4044EB0>, 'serialize': <msrest.serialization.Serializer object at 0x000001B1A4044730>, 'display_name': 'SDK_pipeline_with_components_from_yaml', 'experiment_name': '1a_pipeline_with_components_from_yaml', 'compute': None, 'services': {'Tracking': <azure.ai.ml._restclient.v2022_10_01_preview.models._models_py3.JobService object at 0x000001B1A4044580>, 'Studio': <azure.ai.ml._restclient.v2022_10_01_preview.models._models_py3.JobService object at 0x000001B1A4044B80>}, 'settings': {}, 'identity': None, 'default_code': None, 'default_environment': None})"
      ]
     },
     "execution_count": 14,
     "metadata": {},
     "output_type": "execute_result"
    }
   ],
   "source": [
    "# Submit pipeline job to workspace\n",
    "pipeline_job = ml_client.jobs.create_or_update(\n",
    "    pipeline_job, experiment_name=\"1a_pipeline_with_components_from_yaml\"\n",
    ")\n",
    "pipeline_job"
   ]
  },
  {
   "cell_type": "code",
   "execution_count": 15,
   "metadata": {},
   "outputs": [
    {
     "name": "stdout",
     "output_type": "stream",
     "text": [
      "RunId: modest_garage_c3hrsfg1cg\n",
      "Web View: https://ml.azure.com/runs/modest_garage_c3hrsfg1cg?wsid=/subscriptions/ee85ed72-2b26-48f6-a0e8-cb5bcf98fbd9/resourcegroups/ziqitest/workspaces/ZiqiPipelineTest\n",
      "\n",
      "Execution Summary\n",
      "=================\n",
      "RunId: modest_garage_c3hrsfg1cg\n",
      "Web View: https://ml.azure.com/runs/modest_garage_c3hrsfg1cg?wsid=/subscriptions/ee85ed72-2b26-48f6-a0e8-cb5bcf98fbd9/resourcegroups/ziqitest/workspaces/ZiqiPipelineTest\n",
      "\n"
     ]
    }
   ],
   "source": [
    "# Wait until the job completes\n",
    "ml_client.jobs.stream(pipeline_job.name)"
   ]
  },
  {
   "cell_type": "markdown",
   "metadata": {},
   "source": [
    "# Next Steps\n",
    "You can see further examples of running a pipeline job [here](../README.md)"
   ]
  }
 ],
 "metadata": {
  "description": {
   "description": "Create pipeline with CommandComponents from local YAML file"
  },
  "kernelspec": {
   "display_name": "Python 3.9.12 ('base')",
   "language": "python",
   "name": "python3"
  },
  "language_info": {
   "codemirror_mode": {
    "name": "ipython",
    "version": 3
   },
   "file_extension": ".py",
   "mimetype": "text/x-python",
   "name": "python",
   "nbconvert_exporter": "python",
   "pygments_lexer": "ipython3",
   "version": "3.9.12"
  },
  "vscode": {
   "interpreter": {
    "hash": "67d4cc43f17cc28c4c5b270365d697c8aacfce9d35f60f3d7020f2da74684e78"
   }
  }
 },
 "nbformat": 4,
 "nbformat_minor": 2
}
