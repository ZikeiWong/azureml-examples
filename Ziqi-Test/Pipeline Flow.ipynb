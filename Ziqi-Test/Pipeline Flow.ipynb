{
 "cells": [
  {
   "cell_type": "markdown",
   "id": "bb3f9664",
   "metadata": {},
   "source": [
    "# Create Component"
   ]
  },
  {
   "cell_type": "markdown",
   "id": "b65e5dd2",
   "metadata": {},
   "source": [
    "# Create Registry"
   ]
  },
  {
   "cell_type": "markdown",
   "id": "edd5f4b4",
   "metadata": {},
   "source": [
    "Registries enable sharing of assets like components, environments, and models across multiple teams and workspaces in your organization. See details at https://learn.microsoft.com/en-us/azure/machine-learning/how-to-manage-registries?tabs=portal"
   ]
  },
  {
   "cell_type": "markdown",
   "id": "8adc637a",
   "metadata": {},
   "source": [
    "There are three ways to create a registry:\n",
    "* From Azure CLI.\n",
    "* From Azure Portal.\n",
    "* From AzureML Studio.\n",
    "\n",
    "If you are using Azure CLI, you should define the registry with a YAML file first and you can create a registry using the following command:\n",
    "`az ml registry create --file registry.yml`\n",
    "\n",
    "**Make sure you've updated to the latest CLI version to run this CLI command.** To check yourCLI version, run `az --version`. If you are using an older version, please update to the latest version by running `az upgrade`."
   ]
  },
  {
   "cell_type": "markdown",
   "id": "e1ea9247",
   "metadata": {},
   "source": [
    "## Register Component"
   ]
  },
  {
   "cell_type": "markdown",
   "id": "b42c91c9",
   "metadata": {},
   "source": [
    "Components are reusable building blocks of Machine Learning pipelines in AzureML. Creating a component in a registry allows you to use the component in any pipeline in any workspace within your organization. See details at https://learn.microsoft.com/en-us/azure/machine-learning/how-to-share-models-pipelines-across-workspaces-with-registries?tabs=cli#create-a-component-in-registry\n",
    "\n",
    "There are two ways to register a component:\n",
    "* From Azure CLI.\n",
    "* From Python SDK.\n",
    "\n",
    "We have provided a sample component in the `component` folder. There is a `train.yml` file defining \n",
    "the component and a `train_scr/train.py` file defining the component logic. \n",
    "You can register the component using the following command:\n",
    "`az ml component create --file train.yml --registry-name <registry-name>`"
   ]
  },
  {
   "cell_type": "code",
   "execution_count": null,
   "id": "77abf1e7",
   "metadata": {},
   "outputs": [],
   "source": []
  }
 ],
 "metadata": {
  "kernelspec": {
   "display_name": "Python 3.9.12 ('base')",
   "language": "python",
   "name": "python3"
  },
  "language_info": {
   "codemirror_mode": {
    "name": "ipython",
    "version": 3
   },
   "file_extension": ".py",
   "mimetype": "text/x-python",
   "name": "python",
   "nbconvert_exporter": "python",
   "pygments_lexer": "ipython3",
   "version": "3.9.12"
  },
  "vscode": {
   "interpreter": {
    "hash": "67d4cc43f17cc28c4c5b270365d697c8aacfce9d35f60f3d7020f2da74684e78"
   }
  }
 },
 "nbformat": 4,
 "nbformat_minor": 5
}
