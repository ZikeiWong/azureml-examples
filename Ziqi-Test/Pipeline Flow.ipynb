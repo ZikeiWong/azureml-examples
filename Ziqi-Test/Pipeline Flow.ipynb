{
 "cells": [
  {
   "cell_type": "markdown",
   "id": "bb3f9664",
   "metadata": {},
   "source": [
    "## Main Workspace"
   ]
  },
  {
   "cell_type": "markdown",
   "id": "589c3161",
   "metadata": {},
   "source": [
    "Connect to the main workspace that demo as the main workspace of a professional ML engineer.\n",
    "\n",
    "**CLI**\n",
    "\n",
    "`az account set -s \"ee85ed72-2b26-48f6-a0e8-cb5bcf98fbd9\"`\n",
    "\n",
    "`az configure --defaults group=ZiqiTest workspace=ZiqiPipelineTest location=eastus`"
   ]
  },
  {
   "cell_type": "code",
   "execution_count": 4,
   "id": "f5bc943e",
   "metadata": {},
   "outputs": [],
   "source": [
    "#import required libraries for workspace\n",
    "from azure.ai.ml import MLClient\n",
    "from azure.identity import DefaultAzureCredential\n",
    "\n",
    "#import required libraries for environments examples\n",
    "from azure.ai.ml.entities import Environment, BuildContext\n",
    "\n",
    "#Enter details of your AzureML workspace\n",
    "subscription_id = 'ee85ed72-2b26-48f6-a0e8-cb5bcf98fbd9'\n",
    "resource_group = 'ZiqiTest'\n",
    "workspace = 'ZiqiPipelineTest'\n",
    "\n",
    "#connect to the workspace\n",
    "ml_client = MLClient(DefaultAzureCredential(), subscription_id, resource_group, workspace)\n",
    "\n",
    "from azure.identity import DefaultAzureCredential, InteractiveBrowserCredential\n",
    "\n",
    "try:\n",
    "    credential = DefaultAzureCredential()\n",
    "    # Check if given credential can get token successfully.\n",
    "    credential.get_token(\"https://management.azure.com/.default\")\n",
    "except Exception as ex:\n",
    "    # Fall back to InteractiveBrowserCredential in case DefaultAzureCredential not work\n",
    "    # This will open a browser page for\n",
    "    credential = InteractiveBrowserCredential()"
   ]
  },
  {
   "cell_type": "markdown",
   "id": "92f065c9",
   "metadata": {},
   "source": [
    "## Create Component\n",
    "\n",
    "We have provided a sample component in the `component` folder. There is a `train.yml` file defining \n",
    "the component and a `train_scr/train.py` file defining the component logic. "
   ]
  },
  {
   "cell_type": "markdown",
   "id": "b65e5dd2",
   "metadata": {},
   "source": [
    "## Create Registry"
   ]
  },
  {
   "cell_type": "markdown",
   "id": "edd5f4b4",
   "metadata": {},
   "source": [
    "Registries enable sharing of assets like components, environments, and models across multiple teams and workspaces in your organization. See details at https://learn.microsoft.com/en-us/azure/machine-learning/how-to-manage-registries?tabs=portal"
   ]
  },
  {
   "cell_type": "markdown",
   "id": "8adc637a",
   "metadata": {},
   "source": [
    "There are three ways to create a registry:\n",
    "* From Azure CLI.\n",
    "* From Azure Portal.\n",
    "* From AzureML Studio.\n",
    "\n",
    "If you are using Azure CLI, you should define the registry with a YAML file first and you can create a registry using the following command:\n",
    "`az ml registry create --file registry.yml`\n",
    "\n",
    "**Make sure you've updated to the latest CLI version to run this CLI command.** To check yourCLI version, run `az --version`. If you are using an older version, please update to the latest version by running `az upgrade`."
   ]
  },
  {
   "cell_type": "markdown",
   "id": "e1ea9247",
   "metadata": {},
   "source": [
    "## Register Component"
   ]
  },
  {
   "cell_type": "markdown",
   "id": "b42c91c9",
   "metadata": {},
   "source": [
    "Components are reusable building blocks of Machine Learning pipelines in AzureML. Creating a component in a registry allows you to use the component in any pipeline in any workspace within your organization. See details at https://learn.microsoft.com/en-us/azure/machine-learning/how-to-share-models-pipelines-across-workspaces-with-registries?tabs=cli#create-a-component-in-registry\n",
    "\n",
    "There are two ways to register a component:\n",
    "* From Azure CLI.\n",
    "* From Python SDK.\n",
    "\n",
    "We have provided a sample component in the `component` folder. There is a `train.yml` file defining \n",
    "the component and a `train_scr/train.py` file defining the component logic. \n",
    "You can register the component using the following command:\n",
    "`az ml component create --file train.yml --registry-name <registry-name>`"
   ]
  },
  {
   "cell_type": "code",
   "execution_count": 9,
   "id": "77abf1e7",
   "metadata": {},
   "outputs": [
    {
     "name": "stdout",
     "output_type": "stream",
     "text": [
      "$schema: https://azuremlschemas.azureedge.net/latest/commandComponent.schema.json\n",
      "name: train_linear_regression_model\n",
      "version: '2'\n",
      "display_name: TrainLinearRegressionModel\n",
      "type: command\n",
      "inputs:\n",
      "  training_data:\n",
      "    type: uri_folder\n",
      "  test_split_ratio:\n",
      "    type: number\n",
      "    default: '0.2'\n",
      "    max: '1.0'\n",
      "    min: '0.0'\n",
      "outputs:\n",
      "  model_output:\n",
      "    type: mlflow_model\n",
      "  test_data:\n",
      "    type: uri_folder\n",
      "command: python train.py  --training_data ${{inputs.training_data}}  --test_data ${{outputs.test_data}}  --model_output\n",
      "  ${{outputs.model_output}} --test_split_ratio ${{inputs.test_split_ratio}}\n",
      "environment: azureml:AzureML-sklearn-0.24-ubuntu18.04-py37-cpu@latest\n",
      "code: ./train_src\n",
      "is_deterministic: true\n",
      "tags: {}\n",
      "\n"
     ]
    }
   ],
   "source": [
    "from azure.ai.ml import load_component\n",
    "train_model = load_component(source=\"Components/train.yml\")\n",
    "print(train_model)"
   ]
  },
  {
   "cell_type": "code",
   "execution_count": 10,
   "id": "2e81accb",
   "metadata": {},
   "outputs": [
    {
     "name": "stderr",
     "output_type": "stream",
     "text": [
      "\u001b[32mUploading train_src (0.0 MBs): 100%|##########| 2614/2614 [00:00<00:00, 10187.60it/s]\n",
      "\u001b[39m\n",
      "\n",
      "Creating/updating registry component train_linear_regression_model with version 2 "
     ]
    },
    {
     "name": "stdout",
     "output_type": "stream",
     "text": [
      "."
     ]
    },
    {
     "name": "stderr",
     "output_type": "stream",
     "text": [
      "Done (0m 6s)\n"
     ]
    },
    {
     "data": {
      "text/plain": [
       "CommandComponent({'auto_increment_version': False, 'source': 'REMOTE.REGISTRY', 'is_anonymous': False, 'name': 'train_linear_regression_model', 'description': None, 'tags': {}, 'properties': {}, 'id': 'azureml://registries/ZiqiTestRegistry/components/train_linear_regression_model/versions/2', 'Resource__source_path': None, 'base_path': WindowsPath('.'), 'creation_context': <azure.ai.ml._restclient.v2021_10_01_dataplanepreview.models._models_py3.SystemData object at 0x000002023B263B80>, 'serialize': <msrest.serialization.Serializer object at 0x000002023B2D4DF0>, 'command': 'python train.py  --training_data ${{inputs.training_data}}  --test_data ${{outputs.test_data}}  --model_output ${{outputs.model_output}} --test_split_ratio ${{inputs.test_split_ratio}}', 'code': 'azureml://registries/ZiqiTestRegistry/codes/9b0e58fc-67e8-4416-9749-4341e471f336/versions/1', 'environment_variables': None, 'environment': 'azureml://registries/azureml/environments/AzureML-sklearn-0.24-ubuntu18.04-py37-cpu/versions/46', 'distribution': None, 'resources': {'instance_count': 1}, 'version': '2', 'latest_version': None, 'schema': 'https://azuremlschemas.azureedge.net/latest/commandComponent.schema.json', 'type': 'command', 'display_name': 'TrainLinearRegressionModel', 'is_deterministic': True, 'inputs': {'training_data': {'type': 'uri_folder'}, 'test_split_ratio': {'type': 'number', 'default': 0.2, 'min': 0.0, 'max': 1.0}}, 'outputs': {'model_output': {'type': 'mlflow_model'}, 'test_data': {'type': 'uri_folder'}}, 'yaml_str': None, 'other_parameter': {}})"
      ]
     },
     "execution_count": 10,
     "metadata": {},
     "output_type": "execute_result"
    }
   ],
   "source": [
    "ml_client_registry = MLClient (credential=credential,\n",
    "        registry_name = \"ZiqiTestRegistry\")\n",
    "ml_client_registry.components.create_or_update(train_model)"
   ]
  },
  {
   "cell_type": "markdown",
   "id": "1d2eba85",
   "metadata": {},
   "source": [
    "## Switch to a different workspace\n",
    "\n",
    "If you want to switch to a different workspace, use\n",
    "`az configure --default  workspace=ZiqiPipelineTest-Client`"
   ]
  },
  {
   "cell_type": "code",
   "execution_count": 11,
   "id": "c3f43277",
   "metadata": {},
   "outputs": [],
   "source": [
    "#import required libraries for workspace\n",
    "from azure.ai.ml import MLClient\n",
    "from azure.identity import DefaultAzureCredential\n",
    "\n",
    "#import required libraries for environments examples\n",
    "from azure.ai.ml.entities import Environment, BuildContext\n",
    "\n",
    "#Enter details of your AzureML workspace\n",
    "subscription_id = 'ee85ed72-2b26-48f6-a0e8-cb5bcf98fbd9'\n",
    "resource_group = 'ZiqiTest'\n",
    "workspace = 'ZiqiPipelineTest-Client'\n",
    "\n",
    "#connect to the workspace\n",
    "ml_client = MLClient(DefaultAzureCredential(), subscription_id, resource_group, workspace)\n",
    "\n",
    "from azure.identity import DefaultAzureCredential, InteractiveBrowserCredential\n",
    "\n",
    "try:\n",
    "    credential = DefaultAzureCredential()\n",
    "    # Check if given credential can get token successfully.\n",
    "    credential.get_token(\"https://management.azure.com/.default\")\n",
    "except Exception as ex:\n",
    "    # Fall back to InteractiveBrowserCredential in case DefaultAzureCredential not work\n",
    "    # This will open a browser page for\n",
    "    credential = InteractiveBrowserCredential()"
   ]
  },
  {
   "cell_type": "markdown",
   "id": "ae162564",
   "metadata": {},
   "source": [
    "## Run a pipeline job in a different workspace using a component from a registry\n",
    "\n",
    "You can run a pipeline job in a different workspace using a component from a registry. See details at https://learn.microsoft.com/en-us/azure/machine-learning/how-to-share-models-pipelines-across-workspaces-with-registries?tabs=cli#run-a-pipeline-job-in-a-workspace-using-a-component-from-a-registry\n",
    "\n",
    "\n",
    "Run the pipeline job with the az ml job create command.\n",
    "`az ml job create --file single-job-pipeline.yml`\n",
    "\n",
    "In this pipeline, component is retrived from\n",
    "`component: azureml://registries/ZiqiTestRegistry/components/train_linear_regression_model/versions/1`"
   ]
  },
  {
   "cell_type": "code",
   "execution_count": 13,
   "id": "34fddb2f",
   "metadata": {},
   "outputs": [
    {
     "name": "stdout",
     "output_type": "stream",
     "text": [
      "AmlCompute({'type': 'amlcompute', 'created_on': None, 'provisioning_state': 'Succeeded', 'provisioning_errors': None, 'name': 'cpu-cluster', 'description': None, 'tags': {}, 'properties': {}, 'id': '/subscriptions/ee85ed72-2b26-48f6-a0e8-cb5bcf98fbd9/resourceGroups/ZiqiTest/providers/Microsoft.MachineLearningServices/workspaces/ZiqiPipelineTest-Client/computes/cpu-cluster', 'Resource__source_path': None, 'base_path': 'c:\\\\Users\\\\ziqiwang\\\\OneDrive - Microsoft\\\\Documents\\\\GitHub\\\\azureml-examples\\\\Ziqi-Test', 'creation_context': None, 'serialize': <msrest.serialization.Serializer object at 0x000002023B252C40>, 'resource_id': None, 'location': 'eastus2', 'size': 'STANDARD_DS3_V2', 'min_instances': 0, 'max_instances': 10, 'idle_time_before_scale_down': 120.0, 'identity': None, 'ssh_public_access_enabled': True, 'ssh_settings': None, 'network_settings': <azure.ai.ml.entities._compute.compute.NetworkSettings object at 0x000002023B257280>, 'tier': 'dedicated', 'subnet': None})\n"
     ]
    }
   ],
   "source": [
    "# Retrieve an already attached Azure Machine Learning Compute.\n",
    "cluster_name = \"cpu-cluster\"\n",
    "print(ml_client.compute.get(cluster_name))"
   ]
  },
  {
   "cell_type": "code",
   "execution_count": 17,
   "id": "e02d7642",
   "metadata": {},
   "outputs": [
    {
     "data": {
      "text/plain": [
       "<iterator object azure.core.paging.ItemPaged at 0x20238a7bcd0>"
      ]
     },
     "execution_count": 17,
     "metadata": {},
     "output_type": "execute_result"
    }
   ],
   "source": [
    "ml_client_registry = MLClient (credential=credential,\n",
    "        registry_name = \"ZiqiTestRegistry\")"
   ]
  },
  {
   "cell_type": "code",
   "execution_count": 23,
   "id": "1d16ec25",
   "metadata": {},
   "outputs": [
    {
     "name": "stdout",
     "output_type": "stream",
     "text": [
      "Component({'auto_increment_version': True, 'source': 'REMOTE.REGISTRY', 'is_anonymous': False, 'name': 'train_linear_regression_model', 'description': '', 'tags': {}, 'properties': {}, 'id': 'azureml://registries/ZiqiTestRegistry/components/train_linear_regression_model', 'Resource__source_path': None, 'base_path': None, 'creation_context': <azure.ai.ml.entities._system_data.SystemData object at 0x0000020238AAB190>, 'serialize': <msrest.serialization.Serializer object at 0x000002023A4E5610>, 'version': None, 'latest_version': None, 'schema': None, 'type': '_container', 'display_name': None, 'is_deterministic': None, 'inputs': {}, 'outputs': {}, 'yaml_str': None, 'other_parameter': {}})\n",
      "Component({'auto_increment_version': True, 'source': 'REMOTE.REGISTRY', 'is_anonymous': False, 'name': 'train', 'description': '', 'tags': {}, 'properties': {}, 'id': 'azureml://registries/ZiqiTestRegistry/components/train', 'Resource__source_path': None, 'base_path': None, 'creation_context': <azure.ai.ml.entities._system_data.SystemData object at 0x000002023A9F13D0>, 'serialize': <msrest.serialization.Serializer object at 0x000002023A9F1760>, 'version': None, 'latest_version': None, 'schema': None, 'type': '_container', 'display_name': None, 'is_deterministic': None, 'inputs': {}, 'outputs': {}, 'yaml_str': None, 'other_parameter': {}})\n"
     ]
    }
   ],
   "source": [
    "for i in ml_client_registry.components.list():\n",
    "    print(i)"
   ]
  },
  {
   "cell_type": "code",
   "execution_count": 25,
   "id": "73ea2a17",
   "metadata": {},
   "outputs": [],
   "source": [
    "train_component_from_registry = ml_client_registry.components.get(name='train_linear_regression_model')"
   ]
  },
  {
   "cell_type": "code",
   "execution_count": 42,
   "id": "6d199005",
   "metadata": {},
   "outputs": [
    {
     "name": "stdout",
     "output_type": "stream",
     "text": [
      "display_name: pipeline_with_registered_components\n",
      "type: pipeline\n",
      "inputs:\n",
      "  training_data:\n",
      "    type: uri_folder\n",
      "    path: azureml:data_transformed/\n",
      "outputs: {}\n",
      "jobs:\n",
      "  train_job:\n",
      "    type: command\n",
      "    inputs:\n",
      "      training_data:\n",
      "        path: ${{parent.inputs.training_data}}\n",
      "    outputs: {}\n",
      "    code: azureml://registries/ZiqiTestRegistry/codes/9b0e58fc-67e8-4416-9749-4341e471f336/versions/1\n",
      "    resources:\n",
      "      instance_count: 1\n",
      "      properties: {}\n",
      "    environment_variables: {}\n",
      "    properties: {}\n",
      "    component:\n",
      "      $schema: https://azuremlschemas.azureedge.net/latest/commandComponent.schema.json\n",
      "      name: train_linear_regression_model\n",
      "      version: '2'\n",
      "      display_name: TrainLinearRegressionModel\n",
      "      type: command\n",
      "      inputs:\n",
      "        training_data:\n",
      "          type: uri_folder\n",
      "        test_split_ratio:\n",
      "          type: number\n",
      "          default: '0.2'\n",
      "          max: '1.0'\n",
      "          min: '0.0'\n",
      "      outputs:\n",
      "        model_output:\n",
      "          type: mlflow_model\n",
      "        test_data:\n",
      "          type: uri_folder\n",
      "      command: python train.py  --training_data ${{inputs.training_data}}  --test_data\n",
      "        ${{outputs.test_data}}  --model_output ${{outputs.model_output}} --test_split_ratio\n",
      "        ${{inputs.test_split_ratio}}\n",
      "      environment: azureml://registries/azureml/environments/AzureML-sklearn-0.24-ubuntu18.04-py37-cpu/versions/46\n",
      "      code: azureml://registries/ZiqiTestRegistry/codes/9b0e58fc-67e8-4416-9749-4341e471f336/versions/1\n",
      "      resources:\n",
      "        instance_count: 1\n",
      "      is_deterministic: true\n",
      "      tags: {}\n",
      "      id: azureml://registries/ZiqiTestRegistry/components/train_linear_regression_model/labels/default\n",
      "      creation_context:\n",
      "        created_at: '2022-11-11T06:03:55.772299+00:00'\n",
      "        created_by: Ziqi Wang\n",
      "        created_by_type: User\n",
      "        last_modified_at: '2022-11-11T06:03:55.772299+00:00'\n",
      "        last_modified_by: Ziqi Wang\n",
      "        last_modified_by_type: User\n",
      "tags: {}\n",
      "properties: {}\n",
      "settings:\n",
      "  default_compute: azureml:cpu-cluster\n",
      "\n"
     ]
    }
   ],
   "source": [
    "# Construct a pipeline with two steps.\n",
    "from azure.ai.ml.dsl import pipeline\n",
    "from azure.ai.ml import Input\n",
    "parent_dir = \"\"\n",
    "\n",
    "@pipeline()\n",
    "def pipeline_with_registered_components(training_data):\n",
    "    train_job = train_component_from_registry(\n",
    "        training_data=training_data,\n",
    "    )\n",
    "pipeline_job = pipeline_with_registered_components(\n",
    "    training_data=Input(type=\"uri_folder\", path = parent_dir + \"data_transformed/\"),\n",
    ")\n",
    "pipeline_job.settings.default_compute = \"cpu-cluster\"\n",
    "print(pipeline_job)"
   ]
  },
  {
   "cell_type": "code",
   "execution_count": 43,
   "id": "bc6ced7b",
   "metadata": {},
   "outputs": [
    {
     "data": {
      "text/html": [
       "<table style=\"width:100%\"><tr><th>Experiment</th><th>Name</th><th>Type</th><th>Status</th><th>Details Page</th></tr><tr><td>sdk_job_component_from_registry</td><td>bright_pencil_bwdmqkq4c9</td><td>pipeline</td><td>Preparing</td><td><a href=\"https://ml.azure.com/runs/bright_pencil_bwdmqkq4c9?wsid=/subscriptions/ee85ed72-2b26-48f6-a0e8-cb5bcf98fbd9/resourcegroups/ZiqiTest/workspaces/ZiqiPipelineTest-Client&amp;tid=72f988bf-86f1-41af-91ab-2d7cd011db47\" target=\"_blank\" rel=\"noopener\">Link to Azure Machine Learning studio</a></td></tr></table>"
      ],
      "text/plain": [
       "PipelineJob({'inputs': {'training_data': <azure.ai.ml.entities._job.pipeline._io.base.PipelineInput object at 0x000002023C85EBE0>}, 'outputs': {}, 'jobs': {}, 'component': PipelineComponent({'auto_increment_version': False, 'source': 'REMOTE.WORKSPACE.JOB', 'is_anonymous': True, 'name': 'azureml_anonymous', 'description': None, 'tags': {}, 'properties': {}, 'id': None, 'Resource__source_path': None, 'base_path': None, 'creation_context': None, 'serialize': <msrest.serialization.Serializer object at 0x000002023C85E280>, 'version': '1', 'latest_version': None, 'schema': None, 'type': 'pipeline', 'display_name': 'pipeline_with_registered_components', 'is_deterministic': None, 'inputs': {'training_data': {}}, 'outputs': {}, 'yaml_str': None, 'other_parameter': {}, 'jobs': {'train_job': Command({'parameters': {}, 'init': False, 'type': 'command', 'status': None, 'log_files': None, 'name': 'train_job', 'description': None, 'tags': {}, 'properties': {}, 'id': None, 'Resource__source_path': None, 'base_path': None, 'creation_context': None, 'serialize': <msrest.serialization.Serializer object at 0x000002023C5ACFD0>, 'allowed_keys': {}, 'key_restriction': False, 'logger': <Logger attr_dict (WARNING)>, 'display_name': None, 'experiment_name': None, 'compute': None, 'services': None, 'comment': None, 'job_inputs': {'training_data': '${{parent.inputs.training_data}}'}, 'job_outputs': {}, 'inputs': {'training_data': <azure.ai.ml.entities._job.pipeline._io.base.NodeInput object at 0x000002023C6F8DF0>}, 'outputs': {}, 'component': 'azureml://registries/ZiqiTestRegistry/components/train_linear_regression_model/labels/default', 'referenced_control_flow_node_instance_id': None, 'kwargs': {'services': None}, 'instance_id': '51bf5349-951f-4884-aa30-2ff3edbbda38', 'source': 'REMOTE.REGISTRY', 'limits': None, 'identity': None, 'distribution': None, 'environment_variables': {}, 'environment': None, 'resources': {'instance_count': 1}, 'swept': False})}, 'job_types': {'command': 1}, 'job_sources': {'REMOTE.REGISTRY': 1}, 'source_job_id': None}), 'type': 'pipeline', 'status': 'Preparing', 'log_files': None, 'name': 'bright_pencil_bwdmqkq4c9', 'description': None, 'tags': {}, 'properties': {'mlflow.source.git.repoURL': 'https://github.com/ZikeiWong/azureml-examples.git', 'mlflow.source.git.branch': 'ziqi/2022.11RampUp', 'mlflow.source.git.commit': 'cf4d80fb920d90260298c476c4f8164bf026229f', 'azureml.git.dirty': 'True', 'azureml.DevPlatv2': 'true', 'azureml.runsource': 'azureml.PipelineRun', 'runSource': 'MFE', 'runType': 'HTTP', 'azureml.parameters': '{}', 'azureml.continue_on_step_failure': 'False', 'azureml.continue_on_failed_optional_input': 'True', 'azureml.defaultComputeName': 'cpu-cluster', 'azureml.defaultDataStoreName': 'workspaceblobstore', 'azureml.pipelineComponent': 'pipelinerun'}, 'id': '/subscriptions/ee85ed72-2b26-48f6-a0e8-cb5bcf98fbd9/resourceGroups/ZiqiTest/providers/Microsoft.MachineLearningServices/workspaces/ZiqiPipelineTest-Client/jobs/bright_pencil_bwdmqkq4c9', 'Resource__source_path': None, 'base_path': 'c:\\\\Users\\\\ziqiwang\\\\OneDrive - Microsoft\\\\Documents\\\\GitHub\\\\azureml-examples\\\\Ziqi-Test', 'creation_context': <azure.ai.ml.entities._system_data.SystemData object at 0x000002023C85E5B0>, 'serialize': <msrest.serialization.Serializer object at 0x000002023C85EC40>, 'display_name': 'pipeline_with_registered_components', 'experiment_name': 'sdk_job_component_from_registry', 'compute': None, 'services': {'Tracking': <azure.ai.ml._restclient.v2022_10_01_preview.models._models_py3.JobService object at 0x000002023C85EAF0>, 'Studio': <azure.ai.ml._restclient.v2022_10_01_preview.models._models_py3.JobService object at 0x000002023C85ED00>}, 'settings': {}, 'identity': None, 'default_code': None, 'default_environment': None})"
      ]
     },
     "execution_count": 43,
     "metadata": {},
     "output_type": "execute_result"
    }
   ],
   "source": [
    "# submit job to workspace\n",
    "pipeline_job = ml_client.jobs.create_or_update(\n",
    "    pipeline_job, experiment_name=\"sdk_job_component_from_registry\"\n",
    ")\n",
    "pipeline_job"
   ]
  },
  {
   "cell_type": "code",
   "execution_count": null,
   "id": "b353cdf3",
   "metadata": {},
   "outputs": [],
   "source": []
  }
 ],
 "metadata": {
  "kernelspec": {
   "display_name": "Python 3.9.12 ('base')",
   "language": "python",
   "name": "python3"
  },
  "language_info": {
   "codemirror_mode": {
    "name": "ipython",
    "version": 3
   },
   "file_extension": ".py",
   "mimetype": "text/x-python",
   "name": "python",
   "nbconvert_exporter": "python",
   "pygments_lexer": "ipython3",
   "version": "3.9.12"
  },
  "vscode": {
   "interpreter": {
    "hash": "67d4cc43f17cc28c4c5b270365d697c8aacfce9d35f60f3d7020f2da74684e78"
   }
  }
 },
 "nbformat": 4,
 "nbformat_minor": 5
}
